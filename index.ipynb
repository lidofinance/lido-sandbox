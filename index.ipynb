{
 "cells": [
  {
   "cell_type": "markdown",
   "metadata": {},
   "source": [
    "# Lido sandbox\n",
    "\n",
    "## Init Lido contract"
   ]
  },
  {
   "cell_type": "code",
   "execution_count": 1,
   "metadata": {
    "tags": []
   },
   "outputs": [],
   "source": [
    "from lido import Lido\n",
    "\n",
    "lido = Lido()\n",
    "\n",
    "lido.balance = 1 * 10**18\n",
    "lido.initialize()\n",
    "\n",
    "lido.submit('user 1', 64 * 10**18)\n",
    "lido.submit('user 3', 32 * 10**18)\n",
    "\n",
    "None"
   ]
  },
  {
   "cell_type": "markdown",
   "metadata": {},
   "source": [
    "## Init staking modules"
   ]
  },
  {
   "cell_type": "code",
   "execution_count": 2,
   "metadata": {},
   "outputs": [
    {
     "name": "stdout",
     "output_type": "stream",
     "text": [
      "curated module {0: [['curated key 0.0', 'curated signature 0.0'], ['curated key 0.1', 'curated signature 0.1'], ['curated key 0.2', 'curated signature 0.2'], ['curated key 0.3', 'curated signature 0.3'], ['curated key 0.4', 'curated signature 0.4'], ['curated key 0.5', 'curated signature 0.5'], ['curated key 0.6', 'curated signature 0.6'], ['curated key 0.7', 'curated signature 0.7'], ['curated key 0.8', 'curated signature 0.8'], ['curated key 0.9', 'curated signature 0.9']], 1: [['curated key 1.0', 'curated signature 1.0'], ['curated key 1.1', 'curated signature 1.1'], ['curated key 1.2', 'curated signature 1.2'], ['curated key 1.3', 'curated signature 1.3'], ['curated key 1.4', 'curated signature 1.4'], ['curated key 1.5', 'curated signature 1.5'], ['curated key 1.6', 'curated signature 1.6'], ['curated key 1.7', 'curated signature 1.7'], ['curated key 1.8', 'curated signature 1.8'], ['curated key 1.9', 'curated signature 1.9']], 2: [['curated key 2.0', 'curated signature 2.0'], ['curated key 2.1', 'curated signature 2.1'], ['curated key 2.2', 'curated signature 2.2'], ['curated key 2.3', 'curated signature 2.3'], ['curated key 2.4', 'curated signature 2.4'], ['curated key 2.5', 'curated signature 2.5'], ['curated key 2.6', 'curated signature 2.6'], ['curated key 2.7', 'curated signature 2.7'], ['curated key 2.8', 'curated signature 2.8'], ['curated key 2.9', 'curated signature 2.9']], 3: [['curated key 3.0', 'curated signature 3.0'], ['curated key 3.1', 'curated signature 3.1'], ['curated key 3.2', 'curated signature 3.2'], ['curated key 3.3', 'curated signature 3.3'], ['curated key 3.4', 'curated signature 3.4'], ['curated key 3.5', 'curated signature 3.5'], ['curated key 3.6', 'curated signature 3.6'], ['curated key 3.7', 'curated signature 3.7'], ['curated key 3.8', 'curated signature 3.8'], ['curated key 3.9', 'curated signature 3.9']], 4: [['curated key 4.0', 'curated signature 4.0'], ['curated key 4.1', 'curated signature 4.1'], ['curated key 4.2', 'curated signature 4.2'], ['curated key 4.3', 'curated signature 4.3'], ['curated key 4.4', 'curated signature 4.4'], ['curated key 4.5', 'curated signature 4.5'], ['curated key 4.6', 'curated signature 4.6'], ['curated key 4.7', 'curated signature 4.7'], ['curated key 4.8', 'curated signature 4.8'], ['curated key 4.9', 'curated signature 4.9']]}\n",
      "community module {0: [['community key 0.0', 'community signature 0.0'], ['community key 0.1', 'community signature 0.1'], ['community key 0.2', 'community signature 0.2'], ['community key 0.3', 'community signature 0.3'], ['community key 0.4', 'community signature 0.4'], ['community key 0.5', 'community signature 0.5'], ['community key 0.6', 'community signature 0.6'], ['community key 0.7', 'community signature 0.7'], ['community key 0.8', 'community signature 0.8'], ['community key 0.9', 'community signature 0.9']], 1: [['community key 1.0', 'community signature 1.0'], ['community key 1.1', 'community signature 1.1'], ['community key 1.2', 'community signature 1.2'], ['community key 1.3', 'community signature 1.3'], ['community key 1.4', 'community signature 1.4'], ['community key 1.5', 'community signature 1.5'], ['community key 1.6', 'community signature 1.6'], ['community key 1.7', 'community signature 1.7'], ['community key 1.8', 'community signature 1.8'], ['community key 1.9', 'community signature 1.9']], 2: [['community key 2.0', 'community signature 2.0'], ['community key 2.1', 'community signature 2.1'], ['community key 2.2', 'community signature 2.2'], ['community key 2.3', 'community signature 2.3'], ['community key 2.4', 'community signature 2.4'], ['community key 2.5', 'community signature 2.5'], ['community key 2.6', 'community signature 2.6'], ['community key 2.7', 'community signature 2.7'], ['community key 2.8', 'community signature 2.8'], ['community key 2.9', 'community signature 2.9']], 3: [['community key 3.0', 'community signature 3.0'], ['community key 3.1', 'community signature 3.1'], ['community key 3.2', 'community signature 3.2'], ['community key 3.3', 'community signature 3.3'], ['community key 3.4', 'community signature 3.4'], ['community key 3.5', 'community signature 3.5'], ['community key 3.6', 'community signature 3.6'], ['community key 3.7', 'community signature 3.7'], ['community key 3.8', 'community signature 3.8'], ['community key 3.9', 'community signature 3.9']], 4: [['community key 4.0', 'community signature 4.0'], ['community key 4.1', 'community signature 4.1'], ['community key 4.2', 'community signature 4.2'], ['community key 4.3', 'community signature 4.3'], ['community key 4.4', 'community signature 4.4'], ['community key 4.5', 'community signature 4.5'], ['community key 4.6', 'community signature 4.6'], ['community key 4.7', 'community signature 4.7'], ['community key 4.8', 'community signature 4.8'], ['community key 4.9', 'community signature 4.9']]}\n"
     ]
    }
   ],
   "source": [
    "_, router = lido.locator.staking_router\n",
    "\n",
    "router.add_staking_module(name='curated', staking_module_address='curated module', target_share=10000, staking_module_fee=500, treasury_fee=500)\n",
    "router.add_staking_module(name='community', staking_module_address='community module', target_share=10000, staking_module_fee=700, treasury_fee=300)\n",
    "\n",
    "operators = 5\n",
    "submitted_keys_per_operator = 10\n",
    "\n",
    "# init curated module\n",
    "curated_module = router.get_staking_module_instance('curated module')\n",
    "for no_index in range(operators):\n",
    "    curated_module.add_node_operator('curated operator %d' % (no_index), 'curated operator %d' % (no_index))\n",
    "    curated_module.add_signing_keys(\n",
    "        no_index, \n",
    "        [[\"curated key %d.%d\" % (no_index, key_index), \"curated signature %d.%d\" % (no_index, key_index)] for key_index in range(submitted_keys_per_operator)]\n",
    "    )\n",
    "    curated_module.set_node_operator_staking_limit(no_index, submitted_keys_per_operator)\n",
    "\n",
    "# init community module\n",
    "community_module = router.get_staking_module_instance('community module')\n",
    "for no_index in range(operators):\n",
    "    community_module.add_node_operator('community operator %d' % (no_index), 'community operator %d' % (no_index))\n",
    "    community_module.add_signing_keys(\n",
    "        no_index, \n",
    "        [[\"community key %d.%d\" % (no_index, key_index), \"community signature %d.%d\" % (no_index, key_index)] for key_index in range(submitted_keys_per_operator)]\n",
    "    )\n",
    "    community_module.set_node_operator_staking_limit(no_index, submitted_keys_per_operator)"
   ]
  },
  {
   "cell_type": "markdown",
   "metadata": {},
   "source": [
    "## Deposit"
   ]
  },
  {
   "cell_type": "code",
   "execution_count": 3,
   "metadata": {},
   "outputs": [],
   "source": [
    "lido.deposit(2, 1) # 2 deposits to module 1\n",
    "lido.deposit(1, 2) # 1 deposit to module 2"
   ]
  },
  {
   "cell_type": "code",
   "execution_count": 4,
   "metadata": {},
   "outputs": [
    {
     "data": {
      "text/html": [
       "<table><tr><th>total supply</th><th>total shares</th><th>buffered</th><th>cl balance</th><th>cl vals</th><th>deposited vals</th></tr><tr><td align='right'>97.0</td><td align='right'>97.0</td><td align='right'>1.0</td><td align='right'>0.0</td><td align='right'>0</td><td align='right'>3</td></tr></table>"
      ],
      "text/plain": [
       "<IPython.core.display.HTML object>"
      ]
     },
     "metadata": {},
     "output_type": "display_data"
    }
   ],
   "source": [
    "from helpers.print_table import print_table\n",
    "from helpers.wei_to_eth import wei_to_eth\n",
    "\n",
    "deposited_validators, cl_validators, cl_balance = lido.get_beacon_stat()\n",
    "\n",
    "print_table(\n",
    "    [[\n",
    "        wei_to_eth(lido.total_supply()),\n",
    "        wei_to_eth(lido.get_total_shares()),\n",
    "        wei_to_eth(lido.get_buffered_ether()),\n",
    "        wei_to_eth(cl_balance),\n",
    "        cl_validators,\n",
    "        deposited_validators,\n",
    "    ]],\n",
    "    [\n",
    "        'total supply',\n",
    "        'total shares',\n",
    "        'buffered',\n",
    "        'cl balance',\n",
    "        'cl vals',\n",
    "        'deposited vals'\n",
    "    ]\n",
    ")"
   ]
  },
  {
   "cell_type": "markdown",
   "metadata": {},
   "source": [
    "## Stakers"
   ]
  },
  {
   "cell_type": "code",
   "execution_count": 5,
   "metadata": {},
   "outputs": [
    {
     "data": {
      "text/html": [
       "<table><tr><th>address</th><th>shares</th><th>steth</th></tr><tr><td align='left'>0xdead</td><td align='right'>1.0</td><td align='right'>1.0</td></tr><tr><td align='left'>user 1</td><td align='right'>64.0</td><td align='right'>64.0</td></tr><tr><td align='left'>user 3</td><td align='right'>32.0</td><td align='right'>32.0</td></tr></table>"
      ],
      "text/plain": [
       "<IPython.core.display.HTML object>"
      ]
     },
     "metadata": {},
     "output_type": "display_data"
    }
   ],
   "source": [
    "from helpers.print_table import print_table\n",
    "\n",
    "print_table(\n",
    "    [[key, wei_to_eth(value), wei_to_eth(lido.get_pooled_eth_by_shares(value))] for key, value in lido._shares.items()],\n",
    "    ['address', 'shares', 'steth']\n",
    ")"
   ]
  },
  {
   "cell_type": "markdown",
   "metadata": {},
   "source": [
    "## Oracle report"
   ]
  },
  {
   "cell_type": "code",
   "execution_count": 6,
   "metadata": {},
   "outputs": [
    {
     "ename": "AttributeError",
     "evalue": "'Lido' object has no attribute 'shares'",
     "output_type": "error",
     "traceback": [
      "\u001b[0;31m---------------------------------------------------------------------------\u001b[0m",
      "\u001b[0;31mAttributeError\u001b[0m                            Traceback (most recent call last)",
      "Cell \u001b[0;32mIn[6], line 4\u001b[0m\n\u001b[1;32m      1\u001b[0m \u001b[39mfrom\u001b[39;00m \u001b[39mtime\u001b[39;00m \u001b[39mimport\u001b[39;00m time\n\u001b[1;32m      2\u001b[0m current_timestamp \u001b[39m=\u001b[39m \u001b[39mint\u001b[39m(time())\n\u001b[0;32m----> 4\u001b[0m lido\u001b[39m.\u001b[39;49mhandle_oracle_report(\n\u001b[1;32m      5\u001b[0m     report_timestamp \u001b[39m=\u001b[39;49m current_timestamp,\n\u001b[1;32m      6\u001b[0m     time_elapsed \u001b[39m=\u001b[39;49m current_timestamp \u001b[39m-\u001b[39;49m lido\u001b[39m.\u001b[39;49m_last_report_timestamp,\n\u001b[1;32m      7\u001b[0m     cl_validators \u001b[39m=\u001b[39;49m lido\u001b[39m.\u001b[39;49m_deposited_validators,\n\u001b[1;32m      8\u001b[0m     cl_balance \u001b[39m=\u001b[39;49m lido\u001b[39m.\u001b[39;49m_deposited_validators \u001b[39m*\u001b[39;49m lido\u001b[39m.\u001b[39;49mDEPOSIT_SIZE,\n\u001b[1;32m      9\u001b[0m     withdrawal_vault_balance \u001b[39m=\u001b[39;49m \u001b[39m2\u001b[39;49m \u001b[39m*\u001b[39;49m \u001b[39m10\u001b[39;49m \u001b[39m*\u001b[39;49m\u001b[39m*\u001b[39;49m \u001b[39m18\u001b[39;49m,\n\u001b[1;32m     10\u001b[0m     el_rewards_vault_balance \u001b[39m=\u001b[39;49m \u001b[39m2\u001b[39;49m \u001b[39m*\u001b[39;49m \u001b[39m10\u001b[39;49m \u001b[39m*\u001b[39;49m\u001b[39m*\u001b[39;49m \u001b[39m18\u001b[39;49m,\n\u001b[1;32m     11\u001b[0m     shares_requested_to_burn \u001b[39m=\u001b[39;49m \u001b[39m0\u001b[39;49m,\n\u001b[1;32m     12\u001b[0m     withdrawal_finalization_batches \u001b[39m=\u001b[39;49m [],\n\u001b[1;32m     13\u001b[0m     simulated_share_rate \u001b[39m=\u001b[39;49m \u001b[39m0\u001b[39;49m\n\u001b[1;32m     14\u001b[0m )\n\u001b[1;32m     16\u001b[0m \u001b[39mNone\u001b[39;00m\n",
      "File \u001b[0;32m~/Work/bonds-prototype/lido.py:60\u001b[0m, in \u001b[0;36mLido.handle_oracle_report\u001b[0;34m(self, report_timestamp, time_elapsed, cl_validators, cl_balance, withdrawal_vault_balance, el_rewards_vault_balance, shares_requested_to_burn, withdrawal_finalization_batches, simulated_share_rate)\u001b[0m\n\u001b[1;32m     48\u001b[0m \u001b[39mdef\u001b[39;00m \u001b[39mhandle_oracle_report\u001b[39m(\n\u001b[1;32m     49\u001b[0m     \u001b[39mself\u001b[39m,\n\u001b[1;32m     50\u001b[0m     report_timestamp: \u001b[39mint\u001b[39m,\n\u001b[0;32m   (...)\u001b[0m\n\u001b[1;32m     58\u001b[0m     simulated_share_rate: \u001b[39mint\u001b[39m,\n\u001b[1;32m     59\u001b[0m ) \u001b[39m-\u001b[39m\u001b[39m>\u001b[39m \u001b[39mtuple\u001b[39m[\u001b[39mint\u001b[39m, \u001b[39mint\u001b[39m, \u001b[39mint\u001b[39m, \u001b[39mint\u001b[39m]:\n\u001b[0;32m---> 60\u001b[0m     \u001b[39mreturn\u001b[39;00m \u001b[39mself\u001b[39;49m\u001b[39m.\u001b[39;49m_handle_oracle_report(\n\u001b[1;32m     61\u001b[0m         OracleReportedData(\n\u001b[1;32m     62\u001b[0m             report_timestamp,\n\u001b[1;32m     63\u001b[0m             time_elapsed,\n\u001b[1;32m     64\u001b[0m             cl_validators,\n\u001b[1;32m     65\u001b[0m             cl_balance,\n\u001b[1;32m     66\u001b[0m             withdrawal_vault_balance,\n\u001b[1;32m     67\u001b[0m             el_rewards_vault_balance,\n\u001b[1;32m     68\u001b[0m             shares_requested_to_burn,\n\u001b[1;32m     69\u001b[0m             withdrawal_finalization_batches,\n\u001b[1;32m     70\u001b[0m             simulated_share_rate,\n\u001b[1;32m     71\u001b[0m         )\n\u001b[1;32m     72\u001b[0m     )\n",
      "File \u001b[0;32m~/Work/bonds-prototype/lido.py:430\u001b[0m, in \u001b[0;36mLido._handle_oracle_report\u001b[0;34m(self, reported_data)\u001b[0m\n\u001b[1;32m    426\u001b[0m     \u001b[39mself\u001b[39m\u001b[39m.\u001b[39m_burn_shares(burner_address, report_context\u001b[39m.\u001b[39mshares_to_burn)\n\u001b[1;32m    428\u001b[0m \u001b[39m# Step 7.\u001b[39;00m\n\u001b[1;32m    429\u001b[0m \u001b[39m# Distribute protocol fee (treasury & node operators)\u001b[39;00m\n\u001b[0;32m--> 430\u001b[0m report_context\u001b[39m.\u001b[39mshares_minted_as_fees \u001b[39m=\u001b[39m \u001b[39mself\u001b[39;49m\u001b[39m.\u001b[39;49m_process_rewards(\n\u001b[1;32m    431\u001b[0m     report_context, reported_data\u001b[39m.\u001b[39;49mpost_cl_balance, withdrawals, el_rewards\n\u001b[1;32m    432\u001b[0m )\n\u001b[1;32m    434\u001b[0m \u001b[39m# Step 8.\u001b[39;00m\n\u001b[1;32m    435\u001b[0m \u001b[39m# Complete token rebase by informing observers (emit an event and call the external receivers if any)\u001b[39;00m\n\u001b[1;32m    436\u001b[0m (post_rotal_shares, post_total_pooled_ether) \u001b[39m=\u001b[39m \u001b[39mself\u001b[39m\u001b[39m.\u001b[39m_complete_token_rebase(\n\u001b[1;32m    437\u001b[0m     reported_data, report_context, post_token_rebase_receiver\n\u001b[1;32m    438\u001b[0m )\n",
      "File \u001b[0;32m~/Work/bonds-prototype/lido.py:232\u001b[0m, in \u001b[0;36mLido._process_rewards\u001b[0;34m(self, report_context, post_cl_balance, withdrawn_withdrawals, withdrawn_el_rewards)\u001b[0m\n\u001b[1;32m    227\u001b[0m \u001b[39mif\u001b[39;00m post_cl_total_balance \u001b[39m>\u001b[39m report_context\u001b[39m.\u001b[39mpre_cl_balance:\n\u001b[1;32m    228\u001b[0m     consensus_layer_rewards \u001b[39m=\u001b[39m (\n\u001b[1;32m    229\u001b[0m         post_cl_total_balance \u001b[39m-\u001b[39m report_context\u001b[39m.\u001b[39mpre_cl_balance\n\u001b[1;32m    230\u001b[0m     )\n\u001b[0;32m--> 232\u001b[0m     shares_minted_as_fees \u001b[39m=\u001b[39m \u001b[39mself\u001b[39;49m\u001b[39m.\u001b[39;49m_distribute_fee(\n\u001b[1;32m    233\u001b[0m         report_context\u001b[39m.\u001b[39;49mpre_total_pooled_ether,\n\u001b[1;32m    234\u001b[0m         report_context\u001b[39m.\u001b[39;49mpre_total_shares,\n\u001b[1;32m    235\u001b[0m         consensus_layer_rewards \u001b[39m+\u001b[39;49m withdrawn_el_rewards,\n\u001b[1;32m    236\u001b[0m     )\n\u001b[1;32m    237\u001b[0m     \u001b[39mreturn\u001b[39;00m shares_minted_as_fees\n",
      "File \u001b[0;32m~/Work/bonds-prototype/lido.py:293\u001b[0m, in \u001b[0;36mLido._distribute_fee\u001b[0;34m(self, pre_total_pooled_ether, pre_total_shares, total_rewards)\u001b[0m\n\u001b[1;32m    280\u001b[0m shares_minted_as_fees \u001b[39m=\u001b[39m (\n\u001b[1;32m    281\u001b[0m     total_rewards\n\u001b[1;32m    282\u001b[0m     \u001b[39m*\u001b[39m rewards_distribution\u001b[39m.\u001b[39mtotal_fee\n\u001b[0;32m   (...)\u001b[0m\n\u001b[1;32m    288\u001b[0m     )\n\u001b[1;32m    289\u001b[0m )\n\u001b[1;32m    291\u001b[0m \u001b[39mself\u001b[39m\u001b[39m.\u001b[39m_mint_shares(\u001b[39mself\u001b[39m\u001b[39m.\u001b[39m_lido(), shares_minted_as_fees)\n\u001b[0;32m--> 293\u001b[0m module_rewards, total_module_rewards \u001b[39m=\u001b[39m \u001b[39mself\u001b[39;49m\u001b[39m.\u001b[39;49m_transfer_module_rewards(\n\u001b[1;32m    294\u001b[0m     rewards_distribution\u001b[39m.\u001b[39;49mrecipients,\n\u001b[1;32m    295\u001b[0m     rewards_distribution\u001b[39m.\u001b[39;49mmodules_fees,\n\u001b[1;32m    296\u001b[0m     rewards_distribution\u001b[39m.\u001b[39;49mtotal_fee,\n\u001b[1;32m    297\u001b[0m     shares_minted_as_fees,\n\u001b[1;32m    298\u001b[0m )\n\u001b[1;32m    300\u001b[0m \u001b[39mself\u001b[39m\u001b[39m.\u001b[39m_transfer_treasury_rewards(\n\u001b[1;32m    301\u001b[0m     shares_minted_as_fees \u001b[39m-\u001b[39m total_module_rewards\n\u001b[1;32m    302\u001b[0m )\n\u001b[1;32m    304\u001b[0m router\u001b[39m.\u001b[39mreport_rewards_minted(\n\u001b[1;32m    305\u001b[0m     rewards_distribution\u001b[39m.\u001b[39mmodule_ids, module_rewards\n\u001b[1;32m    306\u001b[0m )\n",
      "File \u001b[0;32m~/Work/bonds-prototype/lido.py:324\u001b[0m, in \u001b[0;36mLido._transfer_module_rewards\u001b[0;34m(self, recipients, modules_fees, total_fee, total_rewards)\u001b[0m\n\u001b[1;32m    322\u001b[0m         i_module_rewards \u001b[39m=\u001b[39m total_rewards \u001b[39m*\u001b[39m modules_fees[i] \u001b[39m/\u001b[39m\u001b[39m/\u001b[39m total_fee\n\u001b[1;32m    323\u001b[0m         module_rewards[i] \u001b[39m=\u001b[39m i_module_rewards\n\u001b[0;32m--> 324\u001b[0m         \u001b[39mself\u001b[39;49m\u001b[39m.\u001b[39;49m_transfer_shares(\u001b[39mself\u001b[39;49m\u001b[39m.\u001b[39;49m_lido(), recipients[i], i_module_rewards)\n\u001b[1;32m    325\u001b[0m         total_module_rewards \u001b[39m+\u001b[39m\u001b[39m=\u001b[39m i_module_rewards\n\u001b[1;32m    327\u001b[0m \u001b[39mreturn\u001b[39;00m module_rewards, total_module_rewards\n",
      "File \u001b[0;32m~/Work/bonds-prototype/steth.py:94\u001b[0m, in \u001b[0;36mstETH._transfer_shares\u001b[0;34m(self, sender, recipient, shares_amount)\u001b[0m\n\u001b[1;32m     93\u001b[0m \u001b[39mdef\u001b[39;00m \u001b[39m_transfer_shares\u001b[39m(\u001b[39mself\u001b[39m, sender: \u001b[39mstr\u001b[39m, recipient: \u001b[39mstr\u001b[39m, shares_amount: \u001b[39mint\u001b[39m) \u001b[39m-\u001b[39m\u001b[39m>\u001b[39m \u001b[39mNone\u001b[39;00m:\n\u001b[0;32m---> 94\u001b[0m     current_sender_shares \u001b[39m=\u001b[39m \u001b[39mself\u001b[39;49m\u001b[39m.\u001b[39;49m_shares_of(sender)\n\u001b[1;32m     95\u001b[0m     \u001b[39massert\u001b[39;00m shares_amount \u001b[39m<\u001b[39m\u001b[39m=\u001b[39m current_sender_shares\n\u001b[1;32m     97\u001b[0m     \u001b[39mself\u001b[39m\u001b[39m.\u001b[39m_shares[sender] \u001b[39m=\u001b[39m current_sender_shares \u001b[39m-\u001b[39m shares_amount\n",
      "File \u001b[0;32m~/Work/bonds-prototype/steth.py:91\u001b[0m, in \u001b[0;36mstETH._shares_of\u001b[0;34m(self, account)\u001b[0m\n\u001b[1;32m     90\u001b[0m \u001b[39mdef\u001b[39;00m \u001b[39m_shares_of\u001b[39m(\u001b[39mself\u001b[39m, account: \u001b[39mstr\u001b[39m) \u001b[39m-\u001b[39m\u001b[39m>\u001b[39m \u001b[39mint\u001b[39m:\n\u001b[0;32m---> 91\u001b[0m     \u001b[39mreturn\u001b[39;00m \u001b[39mself\u001b[39;49m\u001b[39m.\u001b[39;49mshares[account]\n",
      "\u001b[0;31mAttributeError\u001b[0m: 'Lido' object has no attribute 'shares'"
     ]
    }
   ],
   "source": [
    "from time import time\n",
    "current_timestamp = int(time())\n",
    "\n",
    "lido.handle_oracle_report(\n",
    "    report_timestamp = current_timestamp,\n",
    "    time_elapsed = current_timestamp - lido._last_report_timestamp,\n",
    "    cl_validators = lido._deposited_validators,\n",
    "    cl_balance = lido._deposited_validators * lido.DEPOSIT_SIZE,\n",
    "    withdrawal_vault_balance = 2 * 10 ** 18,\n",
    "    el_rewards_vault_balance = 2 * 10 ** 18,\n",
    "    shares_requested_to_burn = 0,\n",
    "    withdrawal_finalization_batches = [],\n",
    "    simulated_share_rate = 0\n",
    ")\n",
    "\n",
    "None"
   ]
  }
 ],
 "metadata": {
  "kernelspec": {
   "display_name": "Python 3",
   "language": "python",
   "name": "python3"
  },
  "language_info": {
   "codemirror_mode": {
    "name": "ipython",
    "version": 3
   },
   "file_extension": ".py",
   "mimetype": "text/x-python",
   "name": "python",
   "nbconvert_exporter": "python",
   "pygments_lexer": "ipython3",
   "version": "3.11.3"
  },
  "orig_nbformat": 4
 },
 "nbformat": 4,
 "nbformat_minor": 2
}
