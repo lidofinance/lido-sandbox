{
 "cells": [
  {
   "cell_type": "markdown",
   "metadata": {},
   "source": [
    "# No bonds scenario\n",
    "\n",
    "## Init locator\n",
    "\n",
    "Instantiates all Lido contacts"
   ]
  },
  {
   "cell_type": "code",
   "execution_count": 1,
   "metadata": {},
   "outputs": [],
   "source": [
    "from lido_sandbox.locator import Locator\n",
    "\n",
    "locator = Locator()\n",
    "_, lido = locator.lido\n",
    "_, router = locator.staking_router"
   ]
  },
  {
   "cell_type": "markdown",
   "metadata": {},
   "source": [
    "## Init Lido\n",
    "\n",
    "Initializes the Lido contract and put [the stone in the elevator](https://img2.reactor.cc/pics/post/%D0%B2%D1%81%D1%91-%D0%BF%D0%BB%D0%BE%D1%85%D0%BE-%D1%84%D1%8D%D0%BD%D0%B4%D0%BE%D0%BC%D1%8B-%D0%BB%D0%B8%D1%84%D1%82-7197897.jpeg)"
   ]
  },
  {
   "cell_type": "code",
   "execution_count": 2,
   "metadata": {
    "tags": []
   },
   "outputs": [],
   "source": [
    "lido.balance = 1 * 10**18\n",
    "lido.initialize()"
   ]
  },
  {
   "cell_type": "markdown",
   "metadata": {},
   "source": [
    "## Submits from users"
   ]
  },
  {
   "cell_type": "code",
   "execution_count": 3,
   "metadata": {},
   "outputs": [],
   "source": [
    "lido.submit('user 1', 64 * 10**18)\n",
    "lido.submit('user 2', 64 * 10**18)\n",
    "\n",
    "None"
   ]
  },
  {
   "cell_type": "markdown",
   "metadata": {},
   "source": [
    "## Init staking modules\n",
    "\n",
    "Adds 2 staking modules to the staking router and adds some operators and keys"
   ]
  },
  {
   "cell_type": "code",
   "execution_count": 4,
   "metadata": {},
   "outputs": [],
   "source": [
    "router.add_staking_module(name='curated', staking_module_address='curated module', target_share=10000, staking_module_fee=500, treasury_fee=500)\n",
    "router.add_staking_module(name='community', staking_module_address='community module', target_share=10000, staking_module_fee=700, treasury_fee=300)\n",
    "\n",
    "operators_per_module = 5\n",
    "submitted_keys_per_operator = 10"
   ]
  },
  {
   "cell_type": "markdown",
   "metadata": {},
   "source": [
    "### Curated module"
   ]
  },
  {
   "cell_type": "code",
   "execution_count": 5,
   "metadata": {},
   "outputs": [],
   "source": [
    "curated_module = router.get_staking_module_instance('curated module')\n",
    "for no_index in range(operators_per_module):\n",
    "    curated_module.add_node_operator('curated operator %d' % (no_index), 'curated operator %d' % (no_index))\n",
    "    curated_module.add_signing_keys(\n",
    "        no_index, \n",
    "        [[\"curated key %d.%d\" % (no_index, key_index), \"curated signature %d.%d\" % (no_index, key_index)] for key_index in range(submitted_keys_per_operator)]\n",
    "    )\n",
    "    curated_module.set_node_operator_staking_limit(no_index, submitted_keys_per_operator)"
   ]
  },
  {
   "cell_type": "markdown",
   "metadata": {},
   "source": [
    "### Community module"
   ]
  },
  {
   "cell_type": "code",
   "execution_count": 6,
   "metadata": {},
   "outputs": [],
   "source": [
    "community_module = router.get_staking_module_instance('community module')\n",
    "for no_index in range(operators_per_module):\n",
    "    community_module.add_node_operator('community operator %d' % (no_index), 'community operator %d' % (no_index))\n",
    "    community_module.add_signing_keys(\n",
    "        no_index, \n",
    "        [[\"community key %d.%d\" % (no_index, key_index), \"community signature %d.%d\" % (no_index, key_index)] for key_index in range(submitted_keys_per_operator)]\n",
    "    )\n",
    "    community_module.set_node_operator_staking_limit(no_index, submitted_keys_per_operator)"
   ]
  },
  {
   "cell_type": "markdown",
   "metadata": {},
   "source": [
    "## Deposit\n",
    "\n",
    "Performs deposits to the keys"
   ]
  },
  {
   "cell_type": "code",
   "execution_count": 7,
   "metadata": {},
   "outputs": [],
   "source": [
    "lido.deposit(max_deposits_count=100, staking_module_id=1)\n",
    "lido.deposit(max_deposits_count=100, staking_module_id=2)"
   ]
  },
  {
   "cell_type": "markdown",
   "metadata": {},
   "source": [
    "## Lido statistics"
   ]
  },
  {
   "cell_type": "code",
   "execution_count": 8,
   "metadata": {},
   "outputs": [
    {
     "data": {
      "text/html": [
       "<table><tr><th>total supply</th><th>total shares</th><th>buffered</th><th>cl balance</th><th>cl vals</th><th>deposited vals</th></tr><tr><td align='right'>129.0</td><td align='right'>129.0</td><td align='right'>1.0</td><td align='right'>0.0</td><td align='right'>0</td><td align='right'>4</td></tr></table>"
      ],
      "text/plain": [
       "<IPython.core.display.HTML object>"
      ]
     },
     "metadata": {},
     "output_type": "display_data"
    }
   ],
   "source": [
    "from lido_sandbox.helpers import print_table, wei_to_eth\n",
    "\n",
    "deposited_validators, cl_validators, cl_balance = lido.get_beacon_stat()\n",
    "\n",
    "print_table(\n",
    "    [[\n",
    "        wei_to_eth(lido.total_supply()),\n",
    "        wei_to_eth(lido.get_total_shares()),\n",
    "        wei_to_eth(lido.get_buffered_ether()),\n",
    "        wei_to_eth(cl_balance),\n",
    "        cl_validators,\n",
    "        deposited_validators,\n",
    "    ]],\n",
    "    [\n",
    "        'total supply',\n",
    "        'total shares',\n",
    "        'buffered',\n",
    "        'cl balance',\n",
    "        'cl vals',\n",
    "        'deposited vals'\n",
    "    ]\n",
    ")"
   ]
  },
  {
   "cell_type": "markdown",
   "metadata": {},
   "source": [
    "## Stakers"
   ]
  },
  {
   "cell_type": "code",
   "execution_count": 9,
   "metadata": {},
   "outputs": [
    {
     "ename": "ModuleNotFoundError",
     "evalue": "No module named 'helpers'",
     "output_type": "error",
     "traceback": [
      "\u001b[0;31m---------------------------------------------------------------------------\u001b[0m",
      "\u001b[0;31mModuleNotFoundError\u001b[0m                       Traceback (most recent call last)",
      "\u001b[1;32m/Users/sjors/Work/bonds-prototype/notebooks/no_bonds.ipynb Cell 18\u001b[0m line \u001b[0;36m1\n\u001b[0;32m----> <a href='vscode-notebook-cell:/Users/sjors/Work/bonds-prototype/notebooks/no_bonds.ipynb#X23sZmlsZQ%3D%3D?line=0'>1</a>\u001b[0m \u001b[39mfrom\u001b[39;00m \u001b[39mhelpers\u001b[39;00m\u001b[39m.\u001b[39;00m\u001b[39mprint_table\u001b[39;00m \u001b[39mimport\u001b[39;00m print_table\n\u001b[1;32m      <a href='vscode-notebook-cell:/Users/sjors/Work/bonds-prototype/notebooks/no_bonds.ipynb#X23sZmlsZQ%3D%3D?line=2'>3</a>\u001b[0m print_table(\n\u001b[1;32m      <a href='vscode-notebook-cell:/Users/sjors/Work/bonds-prototype/notebooks/no_bonds.ipynb#X23sZmlsZQ%3D%3D?line=3'>4</a>\u001b[0m     [[key, wei_to_eth(value), wei_to_eth(lido\u001b[39m.\u001b[39mget_pooled_eth_by_shares(value))] \u001b[39mfor\u001b[39;00m key, value \u001b[39min\u001b[39;00m lido\u001b[39m.\u001b[39m_shares\u001b[39m.\u001b[39mitems()],\n\u001b[1;32m      <a href='vscode-notebook-cell:/Users/sjors/Work/bonds-prototype/notebooks/no_bonds.ipynb#X23sZmlsZQ%3D%3D?line=4'>5</a>\u001b[0m     [\u001b[39m'\u001b[39m\u001b[39maddress\u001b[39m\u001b[39m'\u001b[39m, \u001b[39m'\u001b[39m\u001b[39mshares\u001b[39m\u001b[39m'\u001b[39m, \u001b[39m'\u001b[39m\u001b[39msteth\u001b[39m\u001b[39m'\u001b[39m]\n\u001b[1;32m      <a href='vscode-notebook-cell:/Users/sjors/Work/bonds-prototype/notebooks/no_bonds.ipynb#X23sZmlsZQ%3D%3D?line=5'>6</a>\u001b[0m )\n",
      "\u001b[0;31mModuleNotFoundError\u001b[0m: No module named 'helpers'"
     ]
    }
   ],
   "source": [
    "from lido_sandbox.helpers import print_table\n",
    "\n",
    "print_table(\n",
    "    [[key, wei_to_eth(value), wei_to_eth(lido.get_pooled_eth_by_shares(value))] for key, value in lido._shares.items()],\n",
    "    ['address', 'shares', 'steth']\n",
    ")"
   ]
  },
  {
   "cell_type": "markdown",
   "metadata": {},
   "source": [
    "## Oracle report\n",
    "\n",
    "Reports deposited validators and some rewards"
   ]
  },
  {
   "cell_type": "code",
   "execution_count": null,
   "metadata": {},
   "outputs": [],
   "source": [
    "from time import time\n",
    "current_timestamp = int(time())\n",
    "\n",
    "lido.handle_oracle_report(\n",
    "    report_timestamp = current_timestamp,\n",
    "    time_elapsed = current_timestamp - lido._last_report_timestamp,\n",
    "    cl_validators = lido._deposited_validators,\n",
    "    cl_balance = lido._deposited_validators * lido.DEPOSIT_SIZE,\n",
    "    withdrawal_vault_balance = 2 * 10 ** 18,\n",
    "    el_rewards_vault_balance = 2 * 10 ** 18,\n",
    "    shares_requested_to_burn = 0,\n",
    "    withdrawal_finalization_batches = [],\n",
    "    simulated_share_rate = 0\n",
    ")\n",
    "None"
   ]
  },
  {
   "cell_type": "markdown",
   "metadata": {},
   "source": [
    "## Stakers"
   ]
  },
  {
   "cell_type": "code",
   "execution_count": null,
   "metadata": {},
   "outputs": [],
   "source": [
    "print_table(\n",
    "    [[key, wei_to_eth(value), wei_to_eth(lido.get_pooled_eth_by_shares(value))] for key, value in lido._shares.items()],\n",
    "    ['address', 'shares', 'steth']\n",
    ")"
   ]
  }
 ],
 "metadata": {
  "kernelspec": {
   "display_name": "Python 3",
   "language": "python",
   "name": "python3"
  },
  "language_info": {
   "codemirror_mode": {
    "name": "ipython",
    "version": 3
   },
   "file_extension": ".py",
   "mimetype": "text/x-python",
   "name": "python",
   "nbconvert_exporter": "python",
   "pygments_lexer": "ipython3",
   "version": "3.11.3"
  },
  "orig_nbformat": 4
 },
 "nbformat": 4,
 "nbformat_minor": 2
}
