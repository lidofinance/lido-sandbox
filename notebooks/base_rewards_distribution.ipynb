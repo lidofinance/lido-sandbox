{
 "cells": [
  {
   "cell_type": "markdown",
   "metadata": {},
   "source": [
    "# Base rewards distribution"
   ]
  },
  {
   "cell_type": "markdown",
   "metadata": {},
   "source": [
    "## Install dependencies"
   ]
  },
  {
   "cell_type": "code",
   "execution_count": 1,
   "metadata": {},
   "outputs": [],
   "source": [
    "%%capture\n",
    "%pip install ../ || pip install git+https://github.com/lidofinance/lido-sandbox.git"
   ]
  },
  {
   "cell_type": "markdown",
   "metadata": {},
   "source": [
    "## Init locator\n",
    "\n",
    "Instantiates all Lido contacts"
   ]
  },
  {
   "cell_type": "code",
   "execution_count": 2,
   "metadata": {},
   "outputs": [],
   "source": [
    "from lido_sandbox.locator import Locator\n",
    "\n",
    "locator = Locator('locator')\n",
    "lido = locator.lido\n",
    "router = locator.staking_router"
   ]
  },
  {
   "cell_type": "markdown",
   "metadata": {},
   "source": [
    "## Init Lido\n",
    "\n",
    "Initializes the Lido contract and put [the stone in the elevator](https://img2.reactor.cc/pics/post/%D0%B2%D1%81%D1%91-%D0%BF%D0%BB%D0%BE%D1%85%D0%BE-%D1%84%D1%8D%D0%BD%D0%B4%D0%BE%D0%BC%D1%8B-%D0%BB%D0%B8%D1%84%D1%82-7197897.jpeg)"
   ]
  },
  {
   "cell_type": "code",
   "execution_count": 3,
   "metadata": {
    "tags": []
   },
   "outputs": [],
   "source": [
    "lido.balance = 1 * 10**18\n",
    "lido.initialize()"
   ]
  },
  {
   "cell_type": "markdown",
   "metadata": {},
   "source": [
    "## Submits from users"
   ]
  },
  {
   "cell_type": "code",
   "execution_count": 4,
   "metadata": {},
   "outputs": [],
   "source": [
    "%%capture\n",
    "lido.submit('user 1', 64 * 10**18)\n",
    "lido.submit('user 2', 64 * 10**18)"
   ]
  },
  {
   "cell_type": "markdown",
   "metadata": {},
   "source": [
    "## Init staking modules\n",
    "\n",
    "Adds 2 staking modules to the staking router and adds some operators and keys"
   ]
  },
  {
   "cell_type": "code",
   "execution_count": 5,
   "metadata": {},
   "outputs": [],
   "source": [
    "from lido_sandbox.staking_module import StakingModule\n",
    "\n",
    "curated_module = StakingModule('curated type', locator, 'curated module')\n",
    "community_module = StakingModule('community type', locator, 'community module')\n",
    "\n",
    "router.add_staking_module(name='curated', staking_module=curated_module, target_share=10000, staking_module_fee=500, treasury_fee=500)\n",
    "router.add_staking_module(name='community', staking_module=community_module, target_share=10000, staking_module_fee=700, treasury_fee=300)\n",
    "\n",
    "operators_per_module = 5\n",
    "submitted_keys_per_operator = 10"
   ]
  },
  {
   "cell_type": "markdown",
   "metadata": {},
   "source": [
    "### Curated module"
   ]
  },
  {
   "cell_type": "code",
   "execution_count": 6,
   "metadata": {},
   "outputs": [],
   "source": [
    "for no_index in range(operators_per_module):\n",
    "    curated_module.add_node_operator('curated operator %d' % (no_index), 'curated operator %d' % (no_index))\n",
    "    curated_module.add_signing_keys(\n",
    "        no_index, \n",
    "        [[\"curated key %d.%d\" % (no_index, key_index), \"curated signature %d.%d\" % (no_index, key_index)] for key_index in range(submitted_keys_per_operator)]\n",
    "    )\n",
    "    curated_module.set_node_operator_staking_limit(no_index, submitted_keys_per_operator)"
   ]
  },
  {
   "cell_type": "markdown",
   "metadata": {},
   "source": [
    "### Community module"
   ]
  },
  {
   "cell_type": "code",
   "execution_count": 7,
   "metadata": {},
   "outputs": [],
   "source": [
    "for no_index in range(operators_per_module):\n",
    "    community_module.add_node_operator('community operator %d' % (no_index), 'community operator %d' % (no_index))\n",
    "    community_module.add_signing_keys(\n",
    "        no_index, \n",
    "        [[\"community key %d.%d\" % (no_index, key_index), \"community signature %d.%d\" % (no_index, key_index)] for key_index in range(submitted_keys_per_operator)]\n",
    "    )\n",
    "    community_module.set_node_operator_staking_limit(no_index, submitted_keys_per_operator)"
   ]
  },
  {
   "cell_type": "markdown",
   "metadata": {},
   "source": [
    "## Deposit\n",
    "\n",
    "Performs deposits to the keys"
   ]
  },
  {
   "cell_type": "code",
   "execution_count": 8,
   "metadata": {},
   "outputs": [],
   "source": [
    "lido.deposit(max_deposits_count=100, staking_module_id=1)\n",
    "lido.deposit(max_deposits_count=100, staking_module_id=2)"
   ]
  },
  {
   "cell_type": "markdown",
   "metadata": {},
   "source": [
    "## Oracle report\n",
    "\n",
    "### Global Lido statistics before the report"
   ]
  },
  {
   "cell_type": "code",
   "execution_count": 9,
   "metadata": {},
   "outputs": [
    {
     "data": {
      "text/html": [
       "<style type=\"text/css\">\n",
       "</style>\n",
       "<table id=\"T_5dce1\">\n",
       "  <thead>\n",
       "    <tr>\n",
       "      <th class=\"blank level0\" >&nbsp;</th>\n",
       "      <th id=\"T_5dce1_level0_col0\" class=\"col_heading level0 col0\" >param</th>\n",
       "      <th id=\"T_5dce1_level0_col1\" class=\"col_heading level0 col1\" >value</th>\n",
       "    </tr>\n",
       "  </thead>\n",
       "  <tbody>\n",
       "    <tr>\n",
       "      <th id=\"T_5dce1_level0_row0\" class=\"row_heading level0 row0\" >0</th>\n",
       "      <td id=\"T_5dce1_row0_col0\" class=\"data row0 col0\" >total supply</td>\n",
       "      <td id=\"T_5dce1_row0_col1\" class=\"data row0 col1\" >129.00000</td>\n",
       "    </tr>\n",
       "    <tr>\n",
       "      <th id=\"T_5dce1_level0_row1\" class=\"row_heading level0 row1\" >1</th>\n",
       "      <td id=\"T_5dce1_row1_col0\" class=\"data row1 col0\" >total shares</td>\n",
       "      <td id=\"T_5dce1_row1_col1\" class=\"data row1 col1\" >129.00000</td>\n",
       "    </tr>\n",
       "    <tr>\n",
       "      <th id=\"T_5dce1_level0_row2\" class=\"row_heading level0 row2\" >2</th>\n",
       "      <td id=\"T_5dce1_row2_col0\" class=\"data row2 col0\" >buffered</td>\n",
       "      <td id=\"T_5dce1_row2_col1\" class=\"data row2 col1\" >1.00000</td>\n",
       "    </tr>\n",
       "    <tr>\n",
       "      <th id=\"T_5dce1_level0_row3\" class=\"row_heading level0 row3\" >3</th>\n",
       "      <td id=\"T_5dce1_row3_col0\" class=\"data row3 col0\" >cl balance</td>\n",
       "      <td id=\"T_5dce1_row3_col1\" class=\"data row3 col1\" >0.00000</td>\n",
       "    </tr>\n",
       "    <tr>\n",
       "      <th id=\"T_5dce1_level0_row4\" class=\"row_heading level0 row4\" >4</th>\n",
       "      <td id=\"T_5dce1_row4_col0\" class=\"data row4 col0\" >cl vals</td>\n",
       "      <td id=\"T_5dce1_row4_col1\" class=\"data row4 col1\" >0.00000</td>\n",
       "    </tr>\n",
       "    <tr>\n",
       "      <th id=\"T_5dce1_level0_row5\" class=\"row_heading level0 row5\" >5</th>\n",
       "      <td id=\"T_5dce1_row5_col0\" class=\"data row5 col0\" >deposited vals</td>\n",
       "      <td id=\"T_5dce1_row5_col1\" class=\"data row5 col1\" >4.00000</td>\n",
       "    </tr>\n",
       "  </tbody>\n",
       "</table>\n"
      ],
      "text/plain": [
       "<pandas.io.formats.style.Styler at 0x10a3a4a10>"
      ]
     },
     "execution_count": 9,
     "metadata": {},
     "output_type": "execute_result"
    }
   ],
   "source": [
    "from lido_sandbox.helpers import print_global_lido_statistic\n",
    "print_global_lido_statistic(locator)"
   ]
  },
  {
   "cell_type": "markdown",
   "metadata": {},
   "source": [
    "### Stakers before the report"
   ]
  },
  {
   "cell_type": "code",
   "execution_count": 10,
   "metadata": {},
   "outputs": [
    {
     "data": {
      "text/html": [
       "<style type=\"text/css\">\n",
       "</style>\n",
       "<table id=\"T_4bef3\">\n",
       "  <thead>\n",
       "    <tr>\n",
       "      <th class=\"blank level0\" >&nbsp;</th>\n",
       "      <th id=\"T_4bef3_level0_col0\" class=\"col_heading level0 col0\" >address</th>\n",
       "      <th id=\"T_4bef3_level0_col1\" class=\"col_heading level0 col1\" >shares</th>\n",
       "      <th id=\"T_4bef3_level0_col2\" class=\"col_heading level0 col2\" >steth</th>\n",
       "    </tr>\n",
       "  </thead>\n",
       "  <tbody>\n",
       "    <tr>\n",
       "      <th id=\"T_4bef3_level0_row0\" class=\"row_heading level0 row0\" >0</th>\n",
       "      <td id=\"T_4bef3_row0_col0\" class=\"data row0 col0\" >0xdead</td>\n",
       "      <td id=\"T_4bef3_row0_col1\" class=\"data row0 col1\" >1.00000</td>\n",
       "      <td id=\"T_4bef3_row0_col2\" class=\"data row0 col2\" >1.00000</td>\n",
       "    </tr>\n",
       "    <tr>\n",
       "      <th id=\"T_4bef3_level0_row1\" class=\"row_heading level0 row1\" >1</th>\n",
       "      <td id=\"T_4bef3_row1_col0\" class=\"data row1 col0\" >user 1</td>\n",
       "      <td id=\"T_4bef3_row1_col1\" class=\"data row1 col1\" >64.00000</td>\n",
       "      <td id=\"T_4bef3_row1_col2\" class=\"data row1 col2\" >64.00000</td>\n",
       "    </tr>\n",
       "    <tr>\n",
       "      <th id=\"T_4bef3_level0_row2\" class=\"row_heading level0 row2\" >2</th>\n",
       "      <td id=\"T_4bef3_row2_col0\" class=\"data row2 col0\" >user 2</td>\n",
       "      <td id=\"T_4bef3_row2_col1\" class=\"data row2 col1\" >64.00000</td>\n",
       "      <td id=\"T_4bef3_row2_col2\" class=\"data row2 col2\" >64.00000</td>\n",
       "    </tr>\n",
       "  </tbody>\n",
       "</table>\n"
      ],
      "text/plain": [
       "<pandas.io.formats.style.Styler at 0x103b0ffd0>"
      ]
     },
     "execution_count": 10,
     "metadata": {},
     "output_type": "execute_result"
    }
   ],
   "source": [
    "from lido_sandbox.helpers import print_lido_stakers\n",
    "print_lido_stakers(locator)"
   ]
  },
  {
   "cell_type": "markdown",
   "metadata": {},
   "source": [
    "### The main phase of the oracle report\n",
    "Reports deposited validators and some rewards"
   ]
  },
  {
   "cell_type": "code",
   "execution_count": 11,
   "metadata": {},
   "outputs": [],
   "source": [
    "%%capture\n",
    "\n",
    "from time import time\n",
    "current_timestamp = int(time())\n",
    "\n",
    "lido.handle_oracle_report(\n",
    "    report_timestamp = current_timestamp,\n",
    "    time_elapsed = current_timestamp - lido._last_report_timestamp,\n",
    "    cl_validators = lido._deposited_validators,\n",
    "    cl_balance = lido._deposited_validators * lido.DEPOSIT_SIZE,\n",
    "    withdrawal_vault_balance = 2 * 10 ** 18,\n",
    "    el_rewards_vault_balance = 2 * 10 ** 18,\n",
    "    shares_requested_to_burn = 0,\n",
    "    withdrawal_finalization_batches = [],\n",
    "    simulated_share_rate = 0\n",
    ")"
   ]
  },
  {
   "cell_type": "markdown",
   "metadata": {},
   "source": [
    "### Global Lido statistics after the report"
   ]
  },
  {
   "cell_type": "code",
   "execution_count": 12,
   "metadata": {},
   "outputs": [
    {
     "data": {
      "text/html": [
       "<style type=\"text/css\">\n",
       "</style>\n",
       "<table id=\"T_2e1e7\">\n",
       "  <thead>\n",
       "    <tr>\n",
       "      <th class=\"blank level0\" >&nbsp;</th>\n",
       "      <th id=\"T_2e1e7_level0_col0\" class=\"col_heading level0 col0\" >param</th>\n",
       "      <th id=\"T_2e1e7_level0_col1\" class=\"col_heading level0 col1\" >value</th>\n",
       "    </tr>\n",
       "  </thead>\n",
       "  <tbody>\n",
       "    <tr>\n",
       "      <th id=\"T_2e1e7_level0_row0\" class=\"row_heading level0 row0\" >0</th>\n",
       "      <td id=\"T_2e1e7_row0_col0\" class=\"data row0 col0\" >total supply</td>\n",
       "      <td id=\"T_2e1e7_row0_col1\" class=\"data row0 col1\" >129.09675</td>\n",
       "    </tr>\n",
       "    <tr>\n",
       "      <th id=\"T_2e1e7_level0_row1\" class=\"row_heading level0 row1\" >1</th>\n",
       "      <td id=\"T_2e1e7_row1_col0\" class=\"data row1 col0\" >total shares</td>\n",
       "      <td id=\"T_2e1e7_row1_col1\" class=\"data row1 col1\" >129.00967</td>\n",
       "    </tr>\n",
       "    <tr>\n",
       "      <th id=\"T_2e1e7_level0_row2\" class=\"row_heading level0 row2\" >2</th>\n",
       "      <td id=\"T_2e1e7_row2_col0\" class=\"data row2 col0\" >buffered</td>\n",
       "      <td id=\"T_2e1e7_row2_col1\" class=\"data row2 col1\" >1.09675</td>\n",
       "    </tr>\n",
       "    <tr>\n",
       "      <th id=\"T_2e1e7_level0_row3\" class=\"row_heading level0 row3\" >3</th>\n",
       "      <td id=\"T_2e1e7_row3_col0\" class=\"data row3 col0\" >cl balance</td>\n",
       "      <td id=\"T_2e1e7_row3_col1\" class=\"data row3 col1\" >128.00000</td>\n",
       "    </tr>\n",
       "    <tr>\n",
       "      <th id=\"T_2e1e7_level0_row4\" class=\"row_heading level0 row4\" >4</th>\n",
       "      <td id=\"T_2e1e7_row4_col0\" class=\"data row4 col0\" >cl vals</td>\n",
       "      <td id=\"T_2e1e7_row4_col1\" class=\"data row4 col1\" >4.00000</td>\n",
       "    </tr>\n",
       "    <tr>\n",
       "      <th id=\"T_2e1e7_level0_row5\" class=\"row_heading level0 row5\" >5</th>\n",
       "      <td id=\"T_2e1e7_row5_col0\" class=\"data row5 col0\" >deposited vals</td>\n",
       "      <td id=\"T_2e1e7_row5_col1\" class=\"data row5 col1\" >4.00000</td>\n",
       "    </tr>\n",
       "  </tbody>\n",
       "</table>\n"
      ],
      "text/plain": [
       "<pandas.io.formats.style.Styler at 0x12a37cf10>"
      ]
     },
     "execution_count": 12,
     "metadata": {},
     "output_type": "execute_result"
    }
   ],
   "source": [
    "from lido_sandbox.helpers import print_global_lido_statistic\n",
    "print_global_lido_statistic(locator)"
   ]
  },
  {
   "cell_type": "markdown",
   "metadata": {},
   "source": [
    "### Stakers after the main phase of the report"
   ]
  },
  {
   "cell_type": "code",
   "execution_count": 13,
   "metadata": {},
   "outputs": [
    {
     "data": {
      "text/html": [
       "<style type=\"text/css\">\n",
       "</style>\n",
       "<table id=\"T_30dfb\">\n",
       "  <thead>\n",
       "    <tr>\n",
       "      <th class=\"blank level0\" >&nbsp;</th>\n",
       "      <th id=\"T_30dfb_level0_col0\" class=\"col_heading level0 col0\" >address</th>\n",
       "      <th id=\"T_30dfb_level0_col1\" class=\"col_heading level0 col1\" >shares</th>\n",
       "      <th id=\"T_30dfb_level0_col2\" class=\"col_heading level0 col2\" >steth</th>\n",
       "    </tr>\n",
       "  </thead>\n",
       "  <tbody>\n",
       "    <tr>\n",
       "      <th id=\"T_30dfb_level0_row0\" class=\"row_heading level0 row0\" >0</th>\n",
       "      <td id=\"T_30dfb_row0_col0\" class=\"data row0 col0\" >0xdead</td>\n",
       "      <td id=\"T_30dfb_row0_col1\" class=\"data row0 col1\" >1.00000</td>\n",
       "      <td id=\"T_30dfb_row0_col2\" class=\"data row0 col2\" >1.00067</td>\n",
       "    </tr>\n",
       "    <tr>\n",
       "      <th id=\"T_30dfb_level0_row1\" class=\"row_heading level0 row1\" >1</th>\n",
       "      <td id=\"T_30dfb_row1_col0\" class=\"data row1 col0\" >user 1</td>\n",
       "      <td id=\"T_30dfb_row1_col1\" class=\"data row1 col1\" >64.00000</td>\n",
       "      <td id=\"T_30dfb_row1_col2\" class=\"data row1 col2\" >64.04320</td>\n",
       "    </tr>\n",
       "    <tr>\n",
       "      <th id=\"T_30dfb_level0_row2\" class=\"row_heading level0 row2\" >2</th>\n",
       "      <td id=\"T_30dfb_row2_col0\" class=\"data row2 col0\" >user 2</td>\n",
       "      <td id=\"T_30dfb_row2_col1\" class=\"data row2 col1\" >64.00000</td>\n",
       "      <td id=\"T_30dfb_row2_col2\" class=\"data row2 col2\" >64.04320</td>\n",
       "    </tr>\n",
       "    <tr>\n",
       "      <th id=\"T_30dfb_level0_row3\" class=\"row_heading level0 row3\" >3</th>\n",
       "      <td id=\"T_30dfb_row3_col0\" class=\"data row3 col0\" >lido</td>\n",
       "      <td id=\"T_30dfb_row3_col1\" class=\"data row3 col1\" >0.00000</td>\n",
       "      <td id=\"T_30dfb_row3_col2\" class=\"data row3 col2\" >0.00000</td>\n",
       "    </tr>\n",
       "    <tr>\n",
       "      <th id=\"T_30dfb_level0_row4\" class=\"row_heading level0 row4\" >4</th>\n",
       "      <td id=\"T_30dfb_row4_col0\" class=\"data row4 col0\" >curated module</td>\n",
       "      <td id=\"T_30dfb_row4_col1\" class=\"data row4 col1\" >0.00242</td>\n",
       "      <td id=\"T_30dfb_row4_col2\" class=\"data row4 col2\" >0.00242</td>\n",
       "    </tr>\n",
       "    <tr>\n",
       "      <th id=\"T_30dfb_level0_row5\" class=\"row_heading level0 row5\" >5</th>\n",
       "      <td id=\"T_30dfb_row5_col0\" class=\"data row5 col0\" >community module</td>\n",
       "      <td id=\"T_30dfb_row5_col1\" class=\"data row5 col1\" >0.00338</td>\n",
       "      <td id=\"T_30dfb_row5_col2\" class=\"data row5 col2\" >0.00339</td>\n",
       "    </tr>\n",
       "    <tr>\n",
       "      <th id=\"T_30dfb_level0_row6\" class=\"row_heading level0 row6\" >6</th>\n",
       "      <td id=\"T_30dfb_row6_col0\" class=\"data row6 col0\" >treasury</td>\n",
       "      <td id=\"T_30dfb_row6_col1\" class=\"data row6 col1\" >0.00387</td>\n",
       "      <td id=\"T_30dfb_row6_col2\" class=\"data row6 col2\" >0.00387</td>\n",
       "    </tr>\n",
       "  </tbody>\n",
       "</table>\n"
      ],
      "text/plain": [
       "<pandas.io.formats.style.Styler at 0x1037fad10>"
      ]
     },
     "execution_count": 13,
     "metadata": {},
     "output_type": "execute_result"
    }
   ],
   "source": [
    "from lido_sandbox.helpers import print_lido_stakers\n",
    "print_lido_stakers(locator)"
   ]
  },
  {
   "cell_type": "markdown",
   "metadata": {},
   "source": [
    "### The extra data phase of the oracle report\n",
    "\n",
    "Distribute rewards among node operators. No exited or stuck validators."
   ]
  },
  {
   "cell_type": "code",
   "execution_count": 14,
   "metadata": {},
   "outputs": [],
   "source": [
    "router.on_validators_counts_by_node_operator_reporting_finished()"
   ]
  },
  {
   "cell_type": "markdown",
   "metadata": {},
   "source": [
    "### Stakers after the extra data phase of the report"
   ]
  },
  {
   "cell_type": "code",
   "execution_count": 15,
   "metadata": {},
   "outputs": [
    {
     "data": {
      "text/html": [
       "<style type=\"text/css\">\n",
       "</style>\n",
       "<table id=\"T_036b2\">\n",
       "  <thead>\n",
       "    <tr>\n",
       "      <th class=\"blank level0\" >&nbsp;</th>\n",
       "      <th id=\"T_036b2_level0_col0\" class=\"col_heading level0 col0\" >address</th>\n",
       "      <th id=\"T_036b2_level0_col1\" class=\"col_heading level0 col1\" >shares</th>\n",
       "      <th id=\"T_036b2_level0_col2\" class=\"col_heading level0 col2\" >steth</th>\n",
       "    </tr>\n",
       "  </thead>\n",
       "  <tbody>\n",
       "    <tr>\n",
       "      <th id=\"T_036b2_level0_row0\" class=\"row_heading level0 row0\" >0</th>\n",
       "      <td id=\"T_036b2_row0_col0\" class=\"data row0 col0\" >0xdead</td>\n",
       "      <td id=\"T_036b2_row0_col1\" class=\"data row0 col1\" >1.00000</td>\n",
       "      <td id=\"T_036b2_row0_col2\" class=\"data row0 col2\" >1.00067</td>\n",
       "    </tr>\n",
       "    <tr>\n",
       "      <th id=\"T_036b2_level0_row1\" class=\"row_heading level0 row1\" >1</th>\n",
       "      <td id=\"T_036b2_row1_col0\" class=\"data row1 col0\" >user 1</td>\n",
       "      <td id=\"T_036b2_row1_col1\" class=\"data row1 col1\" >64.00000</td>\n",
       "      <td id=\"T_036b2_row1_col2\" class=\"data row1 col2\" >64.04320</td>\n",
       "    </tr>\n",
       "    <tr>\n",
       "      <th id=\"T_036b2_level0_row2\" class=\"row_heading level0 row2\" >2</th>\n",
       "      <td id=\"T_036b2_row2_col0\" class=\"data row2 col0\" >user 2</td>\n",
       "      <td id=\"T_036b2_row2_col1\" class=\"data row2 col1\" >64.00000</td>\n",
       "      <td id=\"T_036b2_row2_col2\" class=\"data row2 col2\" >64.04320</td>\n",
       "    </tr>\n",
       "    <tr>\n",
       "      <th id=\"T_036b2_level0_row3\" class=\"row_heading level0 row3\" >3</th>\n",
       "      <td id=\"T_036b2_row3_col0\" class=\"data row3 col0\" >lido</td>\n",
       "      <td id=\"T_036b2_row3_col1\" class=\"data row3 col1\" >0.00000</td>\n",
       "      <td id=\"T_036b2_row3_col2\" class=\"data row3 col2\" >0.00000</td>\n",
       "    </tr>\n",
       "    <tr>\n",
       "      <th id=\"T_036b2_level0_row4\" class=\"row_heading level0 row4\" >4</th>\n",
       "      <td id=\"T_036b2_row4_col0\" class=\"data row4 col0\" >curated module</td>\n",
       "      <td id=\"T_036b2_row4_col1\" class=\"data row4 col1\" >0.00000</td>\n",
       "      <td id=\"T_036b2_row4_col2\" class=\"data row4 col2\" >0.00000</td>\n",
       "    </tr>\n",
       "    <tr>\n",
       "      <th id=\"T_036b2_level0_row5\" class=\"row_heading level0 row5\" >5</th>\n",
       "      <td id=\"T_036b2_row5_col0\" class=\"data row5 col0\" >community module</td>\n",
       "      <td id=\"T_036b2_row5_col1\" class=\"data row5 col1\" >0.00000</td>\n",
       "      <td id=\"T_036b2_row5_col2\" class=\"data row5 col2\" >0.00000</td>\n",
       "    </tr>\n",
       "    <tr>\n",
       "      <th id=\"T_036b2_level0_row6\" class=\"row_heading level0 row6\" >6</th>\n",
       "      <td id=\"T_036b2_row6_col0\" class=\"data row6 col0\" >treasury</td>\n",
       "      <td id=\"T_036b2_row6_col1\" class=\"data row6 col1\" >0.00387</td>\n",
       "      <td id=\"T_036b2_row6_col2\" class=\"data row6 col2\" >0.00387</td>\n",
       "    </tr>\n",
       "    <tr>\n",
       "      <th id=\"T_036b2_level0_row7\" class=\"row_heading level0 row7\" >7</th>\n",
       "      <td id=\"T_036b2_row7_col0\" class=\"data row7 col0\" >curated operator 0</td>\n",
       "      <td id=\"T_036b2_row7_col1\" class=\"data row7 col1\" >0.00121</td>\n",
       "      <td id=\"T_036b2_row7_col2\" class=\"data row7 col2\" >0.00121</td>\n",
       "    </tr>\n",
       "    <tr>\n",
       "      <th id=\"T_036b2_level0_row8\" class=\"row_heading level0 row8\" >8</th>\n",
       "      <td id=\"T_036b2_row8_col0\" class=\"data row8 col0\" >curated operator 1</td>\n",
       "      <td id=\"T_036b2_row8_col1\" class=\"data row8 col1\" >0.00121</td>\n",
       "      <td id=\"T_036b2_row8_col2\" class=\"data row8 col2\" >0.00121</td>\n",
       "    </tr>\n",
       "    <tr>\n",
       "      <th id=\"T_036b2_level0_row9\" class=\"row_heading level0 row9\" >9</th>\n",
       "      <td id=\"T_036b2_row9_col0\" class=\"data row9 col0\" >community operator 0</td>\n",
       "      <td id=\"T_036b2_row9_col1\" class=\"data row9 col1\" >0.00169</td>\n",
       "      <td id=\"T_036b2_row9_col2\" class=\"data row9 col2\" >0.00169</td>\n",
       "    </tr>\n",
       "    <tr>\n",
       "      <th id=\"T_036b2_level0_row10\" class=\"row_heading level0 row10\" >10</th>\n",
       "      <td id=\"T_036b2_row10_col0\" class=\"data row10 col0\" >community operator 1</td>\n",
       "      <td id=\"T_036b2_row10_col1\" class=\"data row10 col1\" >0.00169</td>\n",
       "      <td id=\"T_036b2_row10_col2\" class=\"data row10 col2\" >0.00169</td>\n",
       "    </tr>\n",
       "  </tbody>\n",
       "</table>\n"
      ],
      "text/plain": [
       "<pandas.io.formats.style.Styler at 0x12a37cf90>"
      ]
     },
     "execution_count": 15,
     "metadata": {},
     "output_type": "execute_result"
    }
   ],
   "source": [
    "from lido_sandbox.helpers import print_lido_stakers\n",
    "print_lido_stakers(locator)"
   ]
  }
 ],
 "metadata": {
  "kernelspec": {
   "display_name": "Python 3",
   "language": "python",
   "name": "python3"
  },
  "language_info": {
   "codemirror_mode": {
    "name": "ipython",
    "version": 3
   },
   "file_extension": ".py",
   "mimetype": "text/x-python",
   "name": "python",
   "nbconvert_exporter": "python",
   "pygments_lexer": "ipython3",
   "version": "3.11.3"
  },
  "orig_nbformat": 4
 },
 "nbformat": 4,
 "nbformat_minor": 2
}
