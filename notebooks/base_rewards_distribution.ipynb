{
 "cells": [
  {
   "cell_type": "markdown",
   "metadata": {},
   "source": [
    "# Base rewards distribution"
   ]
  },
  {
   "cell_type": "markdown",
   "metadata": {},
   "source": [
    "## Install dependencies"
   ]
  },
  {
   "cell_type": "code",
   "execution_count": 14,
   "metadata": {},
   "outputs": [],
   "source": [
    "%%capture\n",
    "%pip install ../ || pip install git+https://github.com/lidofinance/lido-sandbox.git"
   ]
  },
  {
   "cell_type": "markdown",
   "metadata": {},
   "source": [
    "## Init locator\n",
    "\n",
    "Instantiates all Lido contacts"
   ]
  },
  {
   "cell_type": "code",
   "execution_count": 2,
   "metadata": {},
   "outputs": [],
   "source": [
    "from lido_sandbox.locator import Locator\n",
    "\n",
    "locator = Locator()\n",
    "_, lido = locator.lido\n",
    "_, router = locator.staking_router"
   ]
  },
  {
   "cell_type": "markdown",
   "metadata": {},
   "source": [
    "## Init Lido\n",
    "\n",
    "Initializes the Lido contract and put [the stone in the elevator](https://img2.reactor.cc/pics/post/%D0%B2%D1%81%D1%91-%D0%BF%D0%BB%D0%BE%D1%85%D0%BE-%D1%84%D1%8D%D0%BD%D0%B4%D0%BE%D0%BC%D1%8B-%D0%BB%D0%B8%D1%84%D1%82-7197897.jpeg)"
   ]
  },
  {
   "cell_type": "code",
   "execution_count": 3,
   "metadata": {
    "tags": []
   },
   "outputs": [],
   "source": [
    "lido.balance = 1 * 10**18\n",
    "lido.initialize()"
   ]
  },
  {
   "cell_type": "markdown",
   "metadata": {},
   "source": [
    "## Submits from users"
   ]
  },
  {
   "cell_type": "code",
   "execution_count": 4,
   "metadata": {},
   "outputs": [],
   "source": [
    "%%capture\n",
    "lido.submit('user 1', 64 * 10**18)\n",
    "lido.submit('user 2', 64 * 10**18)"
   ]
  },
  {
   "cell_type": "markdown",
   "metadata": {},
   "source": [
    "## Init staking modules\n",
    "\n",
    "Adds 2 staking modules to the staking router and adds some operators and keys"
   ]
  },
  {
   "cell_type": "code",
   "execution_count": 5,
   "metadata": {},
   "outputs": [],
   "source": [
    "router.add_staking_module(name='curated', staking_module_address='curated module', target_share=10000, staking_module_fee=500, treasury_fee=500)\n",
    "router.add_staking_module(name='community', staking_module_address='community module', target_share=10000, staking_module_fee=700, treasury_fee=300)\n",
    "\n",
    "operators_per_module = 5\n",
    "submitted_keys_per_operator = 10"
   ]
  },
  {
   "cell_type": "markdown",
   "metadata": {},
   "source": [
    "### Curated module"
   ]
  },
  {
   "cell_type": "code",
   "execution_count": 6,
   "metadata": {},
   "outputs": [],
   "source": [
    "curated_module = router.get_staking_module_instance('curated module')\n",
    "for no_index in range(operators_per_module):\n",
    "    curated_module.add_node_operator('curated operator %d' % (no_index), 'curated operator %d' % (no_index))\n",
    "    curated_module.add_signing_keys(\n",
    "        no_index, \n",
    "        [[\"curated key %d.%d\" % (no_index, key_index), \"curated signature %d.%d\" % (no_index, key_index)] for key_index in range(submitted_keys_per_operator)]\n",
    "    )\n",
    "    curated_module.set_node_operator_staking_limit(no_index, submitted_keys_per_operator)"
   ]
  },
  {
   "cell_type": "markdown",
   "metadata": {},
   "source": [
    "### Community module"
   ]
  },
  {
   "cell_type": "code",
   "execution_count": 7,
   "metadata": {},
   "outputs": [],
   "source": [
    "community_module = router.get_staking_module_instance('community module')\n",
    "for no_index in range(operators_per_module):\n",
    "    community_module.add_node_operator('community operator %d' % (no_index), 'community operator %d' % (no_index))\n",
    "    community_module.add_signing_keys(\n",
    "        no_index, \n",
    "        [[\"community key %d.%d\" % (no_index, key_index), \"community signature %d.%d\" % (no_index, key_index)] for key_index in range(submitted_keys_per_operator)]\n",
    "    )\n",
    "    community_module.set_node_operator_staking_limit(no_index, submitted_keys_per_operator)"
   ]
  },
  {
   "cell_type": "markdown",
   "metadata": {},
   "source": [
    "## Deposit\n",
    "\n",
    "Performs deposits to the keys"
   ]
  },
  {
   "cell_type": "code",
   "execution_count": 8,
   "metadata": {},
   "outputs": [],
   "source": [
    "lido.deposit(max_deposits_count=100, staking_module_id=1)\n",
    "lido.deposit(max_deposits_count=100, staking_module_id=2)"
   ]
  },
  {
   "cell_type": "markdown",
   "metadata": {},
   "source": [
    "## Oracle report\n",
    "\n",
    "### Global Lido statistics before the report"
   ]
  },
  {
   "cell_type": "code",
   "execution_count": 9,
   "metadata": {},
   "outputs": [
    {
     "data": {
      "text/html": [
       "<table><tr><th>total supply</th><th>total shares</th><th>buffered</th><th>cl balance</th><th>cl vals</th><th>deposited vals</th></tr><tr><td align='right'>129.0</td><td align='right'>129.0</td><td align='right'>1.0</td><td align='right'>0.0</td><td align='right'>0</td><td align='right'>4</td></tr></table>"
      ],
      "text/plain": [
       "<IPython.core.display.HTML object>"
      ]
     },
     "metadata": {},
     "output_type": "display_data"
    }
   ],
   "source": [
    "from lido_sandbox.helpers import print_global_lido_statistic\n",
    "print_global_lido_statistic(locator)"
   ]
  },
  {
   "cell_type": "markdown",
   "metadata": {},
   "source": [
    "### Stakers before the report"
   ]
  },
  {
   "cell_type": "code",
   "execution_count": 10,
   "metadata": {},
   "outputs": [
    {
     "data": {
      "text/html": [
       "<table><tr><th>address</th><th>shares</th><th>steth</th></tr><tr><td align='left'>0xdead</td><td align='right'>1.0</td><td align='right'>1.0</td></tr><tr><td align='left'>user 1</td><td align='right'>64.0</td><td align='right'>64.0</td></tr><tr><td align='left'>user 2</td><td align='right'>64.0</td><td align='right'>64.0</td></tr></table>"
      ],
      "text/plain": [
       "<IPython.core.display.HTML object>"
      ]
     },
     "metadata": {},
     "output_type": "display_data"
    }
   ],
   "source": [
    "from lido_sandbox.helpers import print_lido_stakers\n",
    "print_lido_stakers(locator)"
   ]
  },
  {
   "cell_type": "markdown",
   "metadata": {},
   "source": [
    "### The main phase of the oracle report\n",
    "Reports deposited validators and some rewards"
   ]
  },
  {
   "cell_type": "code",
   "execution_count": 11,
   "metadata": {},
   "outputs": [],
   "source": [
    "%%capture\n",
    "\n",
    "from time import time\n",
    "current_timestamp = int(time())\n",
    "\n",
    "lido.handle_oracle_report(\n",
    "    report_timestamp = current_timestamp,\n",
    "    time_elapsed = current_timestamp - lido._last_report_timestamp,\n",
    "    cl_validators = lido._deposited_validators,\n",
    "    cl_balance = lido._deposited_validators * lido.DEPOSIT_SIZE,\n",
    "    withdrawal_vault_balance = 2 * 10 ** 18,\n",
    "    el_rewards_vault_balance = 2 * 10 ** 18,\n",
    "    shares_requested_to_burn = 0,\n",
    "    withdrawal_finalization_batches = [],\n",
    "    simulated_share_rate = 0\n",
    ")"
   ]
  },
  {
   "cell_type": "markdown",
   "metadata": {},
   "source": [
    "### Global Lido statistics after the report"
   ]
  },
  {
   "cell_type": "code",
   "execution_count": 12,
   "metadata": {},
   "outputs": [
    {
     "data": {
      "text/html": [
       "<table><tr><th>total supply</th><th>total shares</th><th>buffered</th><th>cl balance</th><th>cl vals</th><th>deposited vals</th></tr><tr><td align='right'>129.0967</td><td align='right'>129.0097</td><td align='right'>1.0967</td><td align='right'>128.0</td><td align='right'>4</td><td align='right'>4</td></tr></table>"
      ],
      "text/plain": [
       "<IPython.core.display.HTML object>"
      ]
     },
     "metadata": {},
     "output_type": "display_data"
    }
   ],
   "source": [
    "from lido_sandbox.helpers import print_global_lido_statistic\n",
    "print_global_lido_statistic(locator)"
   ]
  },
  {
   "cell_type": "markdown",
   "metadata": {},
   "source": [
    "### Stakers after the report"
   ]
  },
  {
   "cell_type": "code",
   "execution_count": 13,
   "metadata": {},
   "outputs": [
    {
     "data": {
      "text/html": [
       "<table><tr><th>address</th><th>shares</th><th>steth</th></tr><tr><td align='left'>0xdead</td><td align='right'>1.0</td><td align='right'>1.0007</td></tr><tr><td align='left'>user 1</td><td align='right'>64.0</td><td align='right'>64.0432</td></tr><tr><td align='left'>user 2</td><td align='right'>64.0</td><td align='right'>64.0432</td></tr><tr><td align='left'>lido</td><td align='right'>0.0</td><td align='right'>0.0</td></tr><tr><td align='left'>curated module</td><td align='right'>0.0024</td><td align='right'>0.0024</td></tr><tr><td align='left'>community module</td><td align='right'>0.0034</td><td align='right'>0.0034</td></tr><tr><td align='left'>treasury</td><td align='right'>0.0039</td><td align='right'>0.0039</td></tr></table>"
      ],
      "text/plain": [
       "<IPython.core.display.HTML object>"
      ]
     },
     "metadata": {},
     "output_type": "display_data"
    }
   ],
   "source": [
    "from lido_sandbox.helpers import print_lido_stakers\n",
    "print_lido_stakers(locator)"
   ]
  }
 ],
 "metadata": {
  "kernelspec": {
   "display_name": "Python 3",
   "language": "python",
   "name": "python3"
  },
  "language_info": {
   "codemirror_mode": {
    "name": "ipython",
    "version": 3
   },
   "file_extension": ".py",
   "mimetype": "text/x-python",
   "name": "python",
   "nbconvert_exporter": "python",
   "pygments_lexer": "ipython3",
   "version": "3.11.3"
  },
  "orig_nbformat": 4
 },
 "nbformat": 4,
 "nbformat_minor": 2
}
