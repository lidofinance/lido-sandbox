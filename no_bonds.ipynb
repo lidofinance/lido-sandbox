{
 "cells": [
  {
   "cell_type": "markdown",
   "metadata": {},
   "source": [
    "# Lido sandbox\n",
    "\n",
    "## Init locator"
   ]
  },
  {
   "cell_type": "code",
   "execution_count": null,
   "metadata": {},
   "outputs": [],
   "source": [
    "from locator import Locator\n",
    "\n",
    "locator = Locator()\n",
    "_, lido = locator.lido\n",
    "_, router = locator.staking_router"
   ]
  },
  {
   "cell_type": "markdown",
   "metadata": {},
   "source": [
    "## Init Lido"
   ]
  },
  {
   "cell_type": "code",
   "execution_count": null,
   "metadata": {
    "tags": []
   },
   "outputs": [],
   "source": [
    "lido.balance = 1 * 10**18 # stone in the elevator\n",
    "lido.initialize()"
   ]
  },
  {
   "cell_type": "markdown",
   "metadata": {},
   "source": [
    "## Submits from users"
   ]
  },
  {
   "cell_type": "code",
   "execution_count": null,
   "metadata": {},
   "outputs": [],
   "source": [
    "lido.submit('user 1', 64 * 10**18)\n",
    "lido.submit('user 2', 64 * 10**18)\n",
    "\n",
    "None"
   ]
  },
  {
   "cell_type": "markdown",
   "metadata": {},
   "source": [
    "## Init staking modules"
   ]
  },
  {
   "cell_type": "code",
   "execution_count": null,
   "metadata": {},
   "outputs": [],
   "source": [
    "router.add_staking_module(name='curated', staking_module_address='curated module', target_share=10000, staking_module_fee=500, treasury_fee=500)\n",
    "router.add_staking_module(name='community', staking_module_address='community module', target_share=10000, staking_module_fee=700, treasury_fee=300)\n",
    "\n",
    "operators_per_module = 5\n",
    "submitted_keys_per_operator = 10"
   ]
  },
  {
   "cell_type": "markdown",
   "metadata": {},
   "source": [
    "### Curated module"
   ]
  },
  {
   "cell_type": "code",
   "execution_count": null,
   "metadata": {},
   "outputs": [],
   "source": [
    "curated_module = router.get_staking_module_instance('curated module')\n",
    "for no_index in range(operators_per_module):\n",
    "    curated_module.add_node_operator('curated operator %d' % (no_index), 'curated operator %d' % (no_index))\n",
    "    curated_module.add_signing_keys(\n",
    "        no_index, \n",
    "        [[\"curated key %d.%d\" % (no_index, key_index), \"curated signature %d.%d\" % (no_index, key_index)] for key_index in range(submitted_keys_per_operator)]\n",
    "    )\n",
    "    curated_module.set_node_operator_staking_limit(no_index, submitted_keys_per_operator)"
   ]
  },
  {
   "cell_type": "markdown",
   "metadata": {},
   "source": [
    "### Community module"
   ]
  },
  {
   "cell_type": "code",
   "execution_count": null,
   "metadata": {},
   "outputs": [],
   "source": [
    "community_module = router.get_staking_module_instance('community module')\n",
    "for no_index in range(operators_per_module):\n",
    "    community_module.add_node_operator('community operator %d' % (no_index), 'community operator %d' % (no_index))\n",
    "    community_module.add_signing_keys(\n",
    "        no_index, \n",
    "        [[\"community key %d.%d\" % (no_index, key_index), \"community signature %d.%d\" % (no_index, key_index)] for key_index in range(submitted_keys_per_operator)]\n",
    "    )\n",
    "    community_module.set_node_operator_staking_limit(no_index, submitted_keys_per_operator)"
   ]
  },
  {
   "cell_type": "markdown",
   "metadata": {},
   "source": [
    "## Deposit"
   ]
  },
  {
   "cell_type": "code",
   "execution_count": null,
   "metadata": {},
   "outputs": [],
   "source": [
    "lido.deposit(max_deposits_count=100, staking_module_id=1)\n",
    "lido.deposit(max_deposits_count=100, staking_module_id=2)"
   ]
  },
  {
   "cell_type": "code",
   "execution_count": null,
   "metadata": {},
   "outputs": [],
   "source": [
    "from helpers.print_table import print_table\n",
    "from helpers.wei_to_eth import wei_to_eth\n",
    "\n",
    "deposited_validators, cl_validators, cl_balance = lido.get_beacon_stat()\n",
    "\n",
    "print_table(\n",
    "    [[\n",
    "        wei_to_eth(lido.total_supply()),\n",
    "        wei_to_eth(lido.get_total_shares()),\n",
    "        wei_to_eth(lido.get_buffered_ether()),\n",
    "        wei_to_eth(cl_balance),\n",
    "        cl_validators,\n",
    "        deposited_validators,\n",
    "    ]],\n",
    "    [\n",
    "        'total supply',\n",
    "        'total shares',\n",
    "        'buffered',\n",
    "        'cl balance',\n",
    "        'cl vals',\n",
    "        'deposited vals'\n",
    "    ]\n",
    ")"
   ]
  },
  {
   "cell_type": "markdown",
   "metadata": {},
   "source": [
    "## Stakers"
   ]
  },
  {
   "cell_type": "code",
   "execution_count": null,
   "metadata": {},
   "outputs": [],
   "source": [
    "from helpers.print_table import print_table\n",
    "\n",
    "print_table(\n",
    "    [[key, wei_to_eth(value), wei_to_eth(lido.get_pooled_eth_by_shares(value))] for key, value in lido._shares.items()],\n",
    "    ['address', 'shares', 'steth']\n",
    ")"
   ]
  },
  {
   "cell_type": "markdown",
   "metadata": {},
   "source": [
    "## Oracle report 1"
   ]
  },
  {
   "cell_type": "code",
   "execution_count": null,
   "metadata": {},
   "outputs": [],
   "source": [
    "from time import time\n",
    "current_timestamp = int(time())\n",
    "\n",
    "lido.handle_oracle_report(\n",
    "    report_timestamp = current_timestamp,\n",
    "    time_elapsed = current_timestamp - lido._last_report_timestamp,\n",
    "    cl_validators = lido._deposited_validators,\n",
    "    cl_balance = lido._deposited_validators * lido.DEPOSIT_SIZE,\n",
    "    withdrawal_vault_balance = 2 * 10 ** 18,\n",
    "    el_rewards_vault_balance = 2 * 10 ** 18,\n",
    "    shares_requested_to_burn = 0,\n",
    "    withdrawal_finalization_batches = [],\n",
    "    simulated_share_rate = 0\n",
    ")\n",
    "\n",
    "None"
   ]
  }
 ],
 "metadata": {
  "kernelspec": {
   "display_name": "Python 3",
   "language": "python",
   "name": "python3"
  },
  "language_info": {
   "codemirror_mode": {
    "name": "ipython",
    "version": 3
   },
   "file_extension": ".py",
   "mimetype": "text/x-python",
   "name": "python",
   "nbconvert_exporter": "python",
   "pygments_lexer": "ipython3",
   "version": "3.11.3"
  },
  "orig_nbformat": 4
 },
 "nbformat": 4,
 "nbformat_minor": 2
}
